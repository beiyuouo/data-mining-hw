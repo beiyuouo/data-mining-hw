{
 "cells": [
  {
   "cell_type": "code",
   "execution_count": 1,
   "metadata": {},
   "outputs": [],
   "source": [
    "import pandas as pd\n",
    "import numpy as np\n",
    "from mlxtend.frequent_patterns import apriori\n",
    "from mlxtend.frequent_patterns import association_rules"
   ]
  },
  {
   "cell_type": "code",
   "execution_count": 2,
   "metadata": {},
   "outputs": [],
   "source": [
    "trainDf = pd.read_csv(\"order_products__train.csv\")\n",
    "productDf = pd.read_csv(\"products.csv\")"
   ]
  },
  {
   "cell_type": "code",
   "execution_count": 3,
   "metadata": {},
   "outputs": [
    {
     "data": {
      "text/html": [
       "<div>\n",
       "<style scoped>\n",
       "    .dataframe tbody tr th:only-of-type {\n",
       "        vertical-align: middle;\n",
       "    }\n",
       "\n",
       "    .dataframe tbody tr th {\n",
       "        vertical-align: top;\n",
       "    }\n",
       "\n",
       "    .dataframe thead th {\n",
       "        text-align: right;\n",
       "    }\n",
       "</style>\n",
       "<table border=\"1\" class=\"dataframe\">\n",
       "  <thead>\n",
       "    <tr style=\"text-align: right;\">\n",
       "      <th></th>\n",
       "      <th>order_id</th>\n",
       "      <th>product_id</th>\n",
       "      <th>add_to_cart_order</th>\n",
       "      <th>reordered</th>\n",
       "    </tr>\n",
       "  </thead>\n",
       "  <tbody>\n",
       "    <tr>\n",
       "      <th>0</th>\n",
       "      <td>1</td>\n",
       "      <td>49302</td>\n",
       "      <td>1</td>\n",
       "      <td>1</td>\n",
       "    </tr>\n",
       "    <tr>\n",
       "      <th>1</th>\n",
       "      <td>1</td>\n",
       "      <td>11109</td>\n",
       "      <td>2</td>\n",
       "      <td>1</td>\n",
       "    </tr>\n",
       "    <tr>\n",
       "      <th>2</th>\n",
       "      <td>1</td>\n",
       "      <td>10246</td>\n",
       "      <td>3</td>\n",
       "      <td>0</td>\n",
       "    </tr>\n",
       "    <tr>\n",
       "      <th>3</th>\n",
       "      <td>1</td>\n",
       "      <td>49683</td>\n",
       "      <td>4</td>\n",
       "      <td>0</td>\n",
       "    </tr>\n",
       "    <tr>\n",
       "      <th>4</th>\n",
       "      <td>1</td>\n",
       "      <td>43633</td>\n",
       "      <td>5</td>\n",
       "      <td>1</td>\n",
       "    </tr>\n",
       "  </tbody>\n",
       "</table>\n",
       "</div>"
      ],
      "text/plain": [
       "   order_id  product_id  add_to_cart_order  reordered\n",
       "0         1       49302                  1          1\n",
       "1         1       11109                  2          1\n",
       "2         1       10246                  3          0\n",
       "3         1       49683                  4          0\n",
       "4         1       43633                  5          1"
      ]
     },
     "execution_count": 3,
     "metadata": {},
     "output_type": "execute_result"
    }
   ],
   "source": [
    "trainDf.head()"
   ]
  },
  {
   "cell_type": "code",
   "execution_count": 4,
   "metadata": {},
   "outputs": [
    {
     "data": {
      "text/html": [
       "<div>\n",
       "<style scoped>\n",
       "    .dataframe tbody tr th:only-of-type {\n",
       "        vertical-align: middle;\n",
       "    }\n",
       "\n",
       "    .dataframe tbody tr th {\n",
       "        vertical-align: top;\n",
       "    }\n",
       "\n",
       "    .dataframe thead th {\n",
       "        text-align: right;\n",
       "    }\n",
       "</style>\n",
       "<table border=\"1\" class=\"dataframe\">\n",
       "  <thead>\n",
       "    <tr style=\"text-align: right;\">\n",
       "      <th></th>\n",
       "      <th>product_id</th>\n",
       "      <th>product_name</th>\n",
       "      <th>aisle_id</th>\n",
       "      <th>department_id</th>\n",
       "    </tr>\n",
       "  </thead>\n",
       "  <tbody>\n",
       "    <tr>\n",
       "      <th>0</th>\n",
       "      <td>1</td>\n",
       "      <td>Chocolate Sandwich Cookies</td>\n",
       "      <td>61</td>\n",
       "      <td>19</td>\n",
       "    </tr>\n",
       "    <tr>\n",
       "      <th>1</th>\n",
       "      <td>2</td>\n",
       "      <td>All-Seasons Salt</td>\n",
       "      <td>104</td>\n",
       "      <td>13</td>\n",
       "    </tr>\n",
       "    <tr>\n",
       "      <th>2</th>\n",
       "      <td>3</td>\n",
       "      <td>Robust Golden Unsweetened Oolong Tea</td>\n",
       "      <td>94</td>\n",
       "      <td>7</td>\n",
       "    </tr>\n",
       "    <tr>\n",
       "      <th>3</th>\n",
       "      <td>4</td>\n",
       "      <td>Smart Ones Classic Favorites Mini Rigatoni Wit...</td>\n",
       "      <td>38</td>\n",
       "      <td>1</td>\n",
       "    </tr>\n",
       "    <tr>\n",
       "      <th>4</th>\n",
       "      <td>5</td>\n",
       "      <td>Green Chile Anytime Sauce</td>\n",
       "      <td>5</td>\n",
       "      <td>13</td>\n",
       "    </tr>\n",
       "  </tbody>\n",
       "</table>\n",
       "</div>"
      ],
      "text/plain": [
       "   product_id                                       product_name  aisle_id  \\\n",
       "0           1                         Chocolate Sandwich Cookies        61   \n",
       "1           2                                   All-Seasons Salt       104   \n",
       "2           3               Robust Golden Unsweetened Oolong Tea        94   \n",
       "3           4  Smart Ones Classic Favorites Mini Rigatoni Wit...        38   \n",
       "4           5                          Green Chile Anytime Sauce         5   \n",
       "\n",
       "   department_id  \n",
       "0             19  \n",
       "1             13  \n",
       "2              7  \n",
       "3              1  \n",
       "4             13  "
      ]
     },
     "execution_count": 4,
     "metadata": {},
     "output_type": "execute_result"
    }
   ],
   "source": [
    "productDf.head()"
   ]
  },
  {
   "cell_type": "code",
   "execution_count": 5,
   "metadata": {},
   "outputs": [],
   "source": [
    "trainDf['reordered'] = 1\n",
    "productCountDf = trainDf.groupby(\"product_id\",as_index = False)[\"order_id\"].count()\n",
    "topLev = 100\n",
    "productCountDf = productCountDf.sort_values(\"order_id\",ascending = False)\n",
    "topProdFrame = productCountDf.iloc[0:topLev,:]\n",
    "topProdFrame = topProdFrame.merge(productDf,on = \"product_id\")\n",
    "productId= topProdFrame.loc[:,[\"product_id\"]]"
   ]
  },
  {
   "cell_type": "code",
   "execution_count": 6,
   "metadata": {},
   "outputs": [
    {
     "name": "stdout",
     "output_type": "stream",
     "text": [
      "     order_id  product_id  add_to_cart_order  reordered\n",
      "115       226       24852                  2          1\n",
      "156       473       24852                  2          1\n",
      "196       878       24852                  2          1\n",
      "272      1042       24852                  1          1\n",
      "297      1139       24852                  1          1\n"
     ]
    }
   ],
   "source": [
    "df = trainDf[0:0]\n",
    "for i in range(0,99):\n",
    "    pId = productId.iloc[i]['product_id'] \n",
    "    stDf = trainDf[trainDf.product_id == pId ]\n",
    "    df = df.append(stDf,ignore_index = False)\n",
    "print(df.head())"
   ]
  },
  {
   "cell_type": "code",
   "execution_count": 7,
   "metadata": {},
   "outputs": [],
   "source": [
    "basket = df.groupby(['order_id', 'product_id'])['reordered'].sum().unstack().reset_index().fillna(0).set_index('order_id')"
   ]
  },
  {
   "cell_type": "code",
   "execution_count": 8,
   "metadata": {},
   "outputs": [],
   "source": [
    "def encode_units(x):\n",
    "    if x <= 0:\n",
    "        return 0\n",
    "    if x >= 1:\n",
    "        return 1"
   ]
  },
  {
   "cell_type": "code",
   "execution_count": 9,
   "metadata": {},
   "outputs": [
    {
     "name": "stdout",
     "output_type": "stream",
     "text": [
      "product_id  196    4605   4920   5025   5077   5450   5785   5876   8174   \\\n",
      "order_id                                                                    \n",
      "1               0      0      0      0      0      0      0      0      0   \n",
      "36              0      0      0      0      0      0      0      0      0   \n",
      "38              0      0      0      0      0      0      0      0      0   \n",
      "96              0      0      0      0      0      0      0      0      0   \n",
      "98              0      0      0      0      0      0      0      0      0   \n",
      "\n",
      "product_id  8193   ...  46667  46906  46979  47144  47209  47626  47766  \\\n",
      "order_id           ...                                                    \n",
      "1               0  ...      0      0      0      0      1      0      0   \n",
      "36              0  ...      0      0      1      0      0      0      0   \n",
      "38              0  ...      0      0      0      0      0      0      0   \n",
      "96              0  ...      0      0      0      0      0      0      0   \n",
      "98              0  ...      0      0      0      0      0      0      0   \n",
      "\n",
      "product_id  48679  49235  49683  \n",
      "order_id                         \n",
      "1               0      0      1  \n",
      "36              1      1      0  \n",
      "38              0      0      0  \n",
      "96              0      0      0  \n",
      "98              0      0      0  \n",
      "\n",
      "[5 rows x 99 columns]\n"
     ]
    }
   ],
   "source": [
    "basket_sets = basket.applymap(encode_units)\n",
    "print(basket_sets.head())"
   ]
  },
  {
   "cell_type": "code",
   "execution_count": 19,
   "metadata": {},
   "outputs": [
    {
     "name": "stdout",
     "output_type": "stream",
     "text": [
      "     support                        itemsets\n",
      "0   0.024507        (100% Whole Wheat Bread)\n",
      "1   0.024017      (Apple Honeycrisp Organic)\n",
      "2   0.041251                     (Asparagus)\n",
      "3   0.165088        (Bag of Organic Bananas)\n",
      "4   0.199706                        (Banana)\n",
      "..       ...                             ...\n",
      "75  0.023014           (Banana, Large Lemon)\n",
      "76  0.023633       (Banana, Organic Avocado)\n",
      "77  0.021329  (Banana, Organic Baby Spinach)\n",
      "78  0.023185  (Banana, Organic Strawberries)\n",
      "79  0.020775          (Strawberries, Banana)\n",
      "\n",
      "[80 rows x 2 columns]\n"
     ]
    }
   ],
   "source": [
    "frequent_itemsets = apriori(basket_sets, min_support=0.02, use_colnames=True)\n",
    "print(frequent_itemsets)"
   ]
  },
  {
   "cell_type": "code",
   "execution_count": 20,
   "metadata": {},
   "outputs": [
    {
     "name": "stdout",
     "output_type": "stream",
     "text": [
      "                 antecedents               consequents  antecedent support  \\\n",
      "0   (Bag of Organic Bananas)    (Organic Baby Spinach)            0.165088   \n",
      "1     (Organic Baby Spinach)  (Bag of Organic Bananas)            0.104343   \n",
      "2   (Bag of Organic Bananas)    (Organic Hass Avocado)            0.165088   \n",
      "3     (Organic Hass Avocado)  (Bag of Organic Bananas)            0.077777   \n",
      "4   (Bag of Organic Bananas)    (Organic Strawberries)            0.165088   \n",
      "5     (Organic Strawberries)  (Bag of Organic Bananas)            0.116180   \n",
      "6                   (Banana)             (Large Lemon)            0.199706   \n",
      "7              (Large Lemon)                  (Banana)            0.086757   \n",
      "8                   (Banana)         (Organic Avocado)            0.199706   \n",
      "9          (Organic Avocado)                  (Banana)            0.079014   \n",
      "10                  (Banana)    (Organic Baby Spinach)            0.199706   \n",
      "11    (Organic Baby Spinach)                  (Banana)            0.104343   \n",
      "12            (Strawberries)                  (Banana)            0.069256   \n",
      "13                  (Banana)            (Strawberries)            0.199706   \n",
      "\n",
      "    consequent support   support  confidence      lift  leverage  conviction  \n",
      "0             0.104343  0.023846    0.144444  1.384328  0.006620    1.046872  \n",
      "1             0.165088  0.023846    0.228536  1.384328  0.006620    1.082244  \n",
      "2             0.077777  0.025808    0.156331  2.009985  0.012968    1.093110  \n",
      "3             0.165088  0.025808    0.331825  2.009985  0.012968    1.249541  \n",
      "4             0.116180  0.032783    0.198579  1.709229  0.013603    1.102815  \n",
      "5             0.165088  0.032783    0.282174  1.709229  0.013603    1.163111  \n",
      "6             0.086757  0.023014    0.115241  1.328322  0.005688    1.032194  \n",
      "7             0.199706  0.023014    0.265274  1.328322  0.005688    1.089241  \n",
      "8             0.079014  0.023633    0.118338  1.497683  0.007853    1.044602  \n",
      "9             0.199706  0.023633    0.299096  1.497683  0.007853    1.141803  \n",
      "10            0.104343  0.021329    0.106803  1.023583  0.000491    1.002755  \n",
      "11            0.199706  0.021329    0.204415  1.023583  0.000491    1.005920  \n",
      "12            0.199706  0.020775    0.299969  1.502057  0.006944    1.143227  \n",
      "13            0.069256  0.020775    0.104026  1.502057  0.006944    1.038807  \n",
      "                antecedents               consequents  antecedent support  \\\n",
      "2  (Bag of Organic Bananas)    (Organic Hass Avocado)            0.165088   \n",
      "3    (Organic Hass Avocado)  (Bag of Organic Bananas)            0.077777   \n",
      "\n",
      "   consequent support   support  confidence      lift  leverage  conviction  \n",
      "2            0.077777  0.025808    0.156331  2.009985  0.012968    1.093110  \n",
      "3            0.165088  0.025808    0.331825  2.009985  0.012968    1.249541  \n"
     ]
    }
   ],
   "source": [
    "rules = association_rules(frequent_itemsets, metric=\"lift\", min_threshold=1)\n",
    "print(rules)\n",
    "print(rules[(rules['lift'] >= 2) & (rules['confidence'] >= 0.1)])"
   ]
  },
  {
   "cell_type": "code",
   "execution_count": 12,
   "metadata": {},
   "outputs": [
    {
     "name": "stdout",
     "output_type": "stream",
     "text": [
      "       product_id                              product_name\n",
      "0           24852                                    Banana\n",
      "1           13176                    Bag of Organic Bananas\n",
      "2           21137                      Organic Strawberries\n",
      "3           21903                      Organic Baby Spinach\n",
      "4           47626                               Large Lemon\n",
      "...           ...                                       ...\n",
      "39118       33470  Velveeta Cheesy Skillets Chicken Alfredo\n",
      "39119       19973          Organic Vegetarian Refried Beans\n",
      "39120       19969      12 Hour Chest Congestion Expectorant\n",
      "39121        9782               Bagged Cinnamon Mini Donuts\n",
      "39122       24836            Cat Litter, Scoopable, Scented\n",
      "\n",
      "[39123 rows x 2 columns]\n"
     ]
    }
   ],
   "source": [
    "newproductCountDf = productCountDf.merge(productDf, left_on='product_id', right_on='product_id', how='inner')\n",
    "newDf = newproductCountDf[['product_id','product_name']]\n",
    "print(newDf)"
   ]
  },
  {
   "cell_type": "code",
   "execution_count": 13,
   "metadata": {},
   "outputs": [
    {
     "name": "stdout",
     "output_type": "stream",
     "text": [
      "        order_id  add_to_cart_order  reordered              product_name\n",
      "0            226                  2          1                    Banana\n",
      "1            473                  2          1                    Banana\n",
      "2            878                  2          1                    Banana\n",
      "3           1042                  1          1                    Banana\n",
      "4           1139                  1          1                    Banana\n",
      "...          ...                ...        ...                       ...\n",
      "312871   3405263                  7          1  Organic Broccoli Florets\n",
      "312872   3410603                  1          1  Organic Broccoli Florets\n",
      "312873   3411504                  4          1  Organic Broccoli Florets\n",
      "312874   3412303                  1          1  Organic Broccoli Florets\n",
      "312875   3420894                 13          1  Organic Broccoli Florets\n",
      "\n",
      "[312876 rows x 4 columns]\n"
     ]
    }
   ],
   "source": [
    "df = df.merge(newDf, left_on='product_id', right_on='product_id', how='inner')\n",
    "df = df[['order_id','add_to_cart_order','reordered','product_name']]\n",
    "print(df)"
   ]
  },
  {
   "cell_type": "code",
   "execution_count": 14,
   "metadata": {},
   "outputs": [],
   "source": [
    "basket = df.groupby(['order_id', 'product_name'])['reordered'].sum().unstack().reset_index().fillna(0).set_index('order_id')"
   ]
  },
  {
   "cell_type": "code",
   "execution_count": 15,
   "metadata": {},
   "outputs": [],
   "source": [
    "def encode_units(x):\n",
    "    if x <= 0:\n",
    "        return 0\n",
    "    if x >= 1:\n",
    "        return 1"
   ]
  },
  {
   "cell_type": "code",
   "execution_count": 16,
   "metadata": {},
   "outputs": [
    {
     "name": "stdout",
     "output_type": "stream",
     "text": [
      "product_name  100% Whole Wheat Bread  2% Reduced Fat Milk  \\\n",
      "order_id                                                    \n",
      "1                                  0                    0   \n",
      "36                                 0                    0   \n",
      "38                                 0                    0   \n",
      "96                                 0                    0   \n",
      "98                                 0                    0   \n",
      "\n",
      "product_name  Apple Honeycrisp Organic  Asparagus  Bag of Organic Bananas  \\\n",
      "order_id                                                                    \n",
      "1                                    0          0                       1   \n",
      "36                                   0          1                       0   \n",
      "38                                   0          0                       0   \n",
      "96                                   0          0                       0   \n",
      "98                                   0          0                       1   \n",
      "\n",
      "product_name  Banana  Blueberries  Boneless Skinless Chicken Breasts  \\\n",
      "order_id                                                               \n",
      "1                  0            0                                  0   \n",
      "36                 0            0                                  0   \n",
      "38                 0            0                                  0   \n",
      "96                 0            0                                  0   \n",
      "98                 0            0                                  0   \n",
      "\n",
      "product_name  Broccoli Crown  Bunched Cilantro  ...  Sparkling Lemon Water  \\\n",
      "order_id                                        ...                          \n",
      "1                          0                 0  ...                      0   \n",
      "36                         0                 0  ...                      0   \n",
      "38                         0                 1  ...                      0   \n",
      "96                         0                 0  ...                      0   \n",
      "98                         0                 0  ...                      0   \n",
      "\n",
      "product_name  Sparkling Natural Mineral Water  Sparkling Water Grapefruit  \\\n",
      "order_id                                                                    \n",
      "1                                           0                           0   \n",
      "36                                          0                           0   \n",
      "38                                          0                           0   \n",
      "96                                          0                           0   \n",
      "98                                          0                           0   \n",
      "\n",
      "product_name  Spring Water  Strawberries  Uncured Genoa Salami  \\\n",
      "order_id                                                         \n",
      "1                        0             0                     0   \n",
      "36                       1             0                     0   \n",
      "38                       0             0                     0   \n",
      "96                       0             0                     0   \n",
      "98                       0             0                     1   \n",
      "\n",
      "product_name  Unsalted Butter  Unsweetened Almondmilk  \\\n",
      "order_id                                                \n",
      "1                           0                       0   \n",
      "36                          0                       0   \n",
      "38                          0                       0   \n",
      "96                          0                       0   \n",
      "98                          0                       0   \n",
      "\n",
      "product_name  Unsweetened Original Almond Breeze Almond Milk  Yellow Onions  \n",
      "order_id                                                                     \n",
      "1                                                          0              0  \n",
      "36                                                         0              0  \n",
      "38                                                         0              0  \n",
      "96                                                         0              0  \n",
      "98                                                         0              0  \n",
      "\n",
      "[5 rows x 99 columns]\n"
     ]
    }
   ],
   "source": [
    "basket_sets = basket.applymap(encode_units)\n",
    "print(basket_sets.head())"
   ]
  },
  {
   "cell_type": "code",
   "execution_count": 17,
   "metadata": {},
   "outputs": [
    {
     "name": "stdout",
     "output_type": "stream",
     "text": [
      "      support                                      itemsets\n",
      "0    0.024507                      (100% Whole Wheat Bread)\n",
      "1    0.016424                         (2% Reduced Fat Milk)\n",
      "2    0.024017                    (Apple Honeycrisp Organic)\n",
      "3    0.041251                                   (Asparagus)\n",
      "4    0.165088                      (Bag of Organic Bananas)\n",
      "..        ...                                           ...\n",
      "138  0.011006      (Organic Cucumber, Organic Strawberries)\n",
      "139  0.010867   (Organic Hass Avocado, Organic Raspberries)\n",
      "140  0.016413  (Organic Hass Avocado, Organic Strawberries)\n",
      "141  0.017810   (Organic Raspberries, Organic Strawberries)\n",
      "142  0.010174    (Organic Whole Milk, Organic Strawberries)\n",
      "\n",
      "[143 rows x 2 columns]\n"
     ]
    }
   ],
   "source": [
    "frequent_itemsets = apriori(basket_sets, min_support=0.01, use_colnames=True)\n",
    "print(frequent_itemsets)"
   ]
  },
  {
   "cell_type": "code",
   "execution_count": 18,
   "metadata": {},
   "outputs": [
    {
     "name": "stdout",
     "output_type": "stream",
     "text": [
      "                               antecedents               consequents  \\\n",
      "6                 (Bag of Organic Bananas)    (Organic Hass Avocado)   \n",
      "7                   (Organic Hass Avocado)  (Bag of Organic Bananas)   \n",
      "9   (Organic Large Extra Fancy Fuji Apple)  (Bag of Organic Bananas)   \n",
      "44                                 (Limes)             (Large Lemon)   \n",
      "45                           (Large Lemon)                   (Limes)   \n",
      "46                           (Large Lemon)         (Organic Avocado)   \n",
      "47                       (Organic Avocado)             (Large Lemon)   \n",
      "52                                 (Limes)         (Organic Avocado)   \n",
      "53                       (Organic Avocado)                   (Limes)   \n",
      "56                      (Organic Cilantro)                   (Limes)   \n",
      "57                                 (Limes)        (Organic Cilantro)   \n",
      "68                   (Organic Blueberries)    (Organic Strawberries)   \n",
      "69                  (Organic Strawberries)     (Organic Blueberries)   \n",
      "72                  (Organic Hass Avocado)     (Organic Raspberries)   \n",
      "73                   (Organic Raspberries)    (Organic Hass Avocado)   \n",
      "76                   (Organic Raspberries)    (Organic Strawberries)   \n",
      "77                  (Organic Strawberries)     (Organic Raspberries)   \n",
      "\n",
      "    antecedent support  consequent support   support  confidence      lift  \n",
      "6             0.165088            0.077777  0.025808    0.156331  2.009985  \n",
      "7             0.077777            0.165088  0.025808    0.331825  2.009985  \n",
      "9             0.030831            0.165088  0.010377    0.336562  2.038677  \n",
      "44            0.064340            0.086757  0.017010    0.264379  3.047365  \n",
      "45            0.086757            0.064340  0.017010    0.196066  3.047365  \n",
      "46            0.086757            0.079014  0.014387    0.165827  2.098696  \n",
      "47            0.079014            0.086757  0.014387    0.182076  2.098696  \n",
      "52            0.064340            0.079014  0.011059    0.171888  2.175407  \n",
      "53            0.079014            0.064340  0.011059    0.139965  2.175407  \n",
      "56            0.037603            0.064340  0.010739    0.285593  4.438830  \n",
      "57            0.064340            0.037603  0.010739    0.166915  4.438830  \n",
      "68            0.052960            0.116180  0.013533    0.255538  2.199491  \n",
      "69            0.116180            0.052960  0.013533    0.116486  2.199491  \n",
      "72            0.077777            0.059146  0.010867    0.139723  2.362342  \n",
      "73            0.059146            0.077777  0.010867    0.183736  2.362342  \n",
      "76            0.059146            0.116180  0.017810    0.301118  2.591814  \n",
      "77            0.116180            0.059146  0.017810    0.153295  2.591814  \n"
     ]
    }
   ],
   "source": [
    "rules = association_rules(frequent_itemsets, metric=\"lift\", min_threshold=1)\n",
    "# print(rules)\n",
    "rules = rules[['antecedents','consequents','antecedent support','consequent support','support','confidence','lift']]\n",
    "rules = rules[(rules['lift'] >= 2) & (rules['confidence'] >= 0.1)]\n",
    "print(rules)"
   ]
  },
  {
   "cell_type": "markdown",
   "metadata": {},
   "source": [
    "Code from mlxtend"
   ]
  },
  {
   "cell_type": "code",
   "execution_count": null,
   "metadata": {},
   "outputs": [],
   "source": [
    "def generate_new_combinations(old_combinations):\n",
    "    items_types_in_previous_step = np.unique(old_combinations.flatten())\n",
    "    for old_combination in old_combinations:\n",
    "        max_combination = old_combination[-1]\n",
    "        mask = items_types_in_previous_step > max_combination\n",
    "        valid_items = items_types_in_previous_step[mask]\n",
    "        old_tuple = tuple(old_combination)\n",
    "        for item in valid_items:\n",
    "            yield from old_tuple\n",
    "            yield item"
   ]
  },
  {
   "cell_type": "code",
   "execution_count": null,
   "metadata": {},
   "outputs": [],
   "source": [
    "def generate_new_combinations_low_memory(old_combinations, X, min_support,\n",
    "                                         is_sparse):\n",
    "\n",
    "    items_types_in_previous_step = np.unique(old_combinations.flatten())\n",
    "    rows_count = X.shape[0]\n",
    "    threshold = min_support * rows_count\n",
    "    for old_combination in old_combinations:\n",
    "        max_combination = old_combination[-1]\n",
    "        mask = items_types_in_previous_step > max_combination\n",
    "        valid_items = items_types_in_previous_step[mask]\n",
    "        old_tuple = tuple(old_combination)\n",
    "        if is_sparse:\n",
    "            mask_rows = X[:, old_tuple].toarray().all(axis=1)\n",
    "            X_cols = X[:, valid_items].toarray()\n",
    "            supports = X_cols[mask_rows].sum(axis=0)\n",
    "        else:\n",
    "            mask_rows = X[:, old_tuple].all(axis=1)\n",
    "            supports = X[mask_rows][:, valid_items].sum(axis=0)\n",
    "        valid_indices = (supports >= threshold).nonzero()[0]\n",
    "        for index in valid_indices:\n",
    "            yield supports[index]\n",
    "            yield from old_tuple\n",
    "            yield valid_items[index]"
   ]
  },
  {
   "cell_type": "code",
   "execution_count": null,
   "metadata": {},
   "outputs": [],
   "source": [
    "def apriori(df, min_support=0.5, use_colnames=False, max_len=None, verbose=0,\n",
    "            low_memory=False):\n",
    "\n",
    "    def _support(_x, _n_rows, _is_sparse):\n",
    "        out = (np.sum(_x, axis=0) / _n_rows)\n",
    "        return np.array(out).reshape(-1)\n",
    "\n",
    "    if min_support <= 0.:\n",
    "        raise ValueError('`min_support` must be a positive '\n",
    "                         'number within the interval `(0, 1]`. '\n",
    "                         'Got %s.' % min_support)\n",
    "\n",
    "    fpc.valid_input_check(df)\n",
    "\n",
    "    if hasattr(df, \"sparse\"):\n",
    "        if df.size == 0:\n",
    "            X = df.values\n",
    "        else:\n",
    "            X = df.sparse.to_coo().tocsc()\n",
    "        is_sparse = True\n",
    "    else:\n",
    "        X = df.values\n",
    "        is_sparse = False\n",
    "    support = _support(X, X.shape[0], is_sparse)\n",
    "    ary_col_idx = np.arange(X.shape[1])\n",
    "    support_dict = {1: support[support >= min_support]}\n",
    "    itemset_dict = {1: ary_col_idx[support >= min_support].reshape(-1, 1)}\n",
    "    max_itemset = 1\n",
    "    rows_count = float(X.shape[0])\n",
    "\n",
    "    all_ones = np.ones((int(rows_count), 1))\n",
    "\n",
    "    while max_itemset and max_itemset < (max_len or float('inf')):\n",
    "        next_max_itemset = max_itemset + 1\n",
    "        if low_memory:\n",
    "            combin = generate_new_combinations_low_memory(\n",
    "                itemset_dict[max_itemset], X, min_support, is_sparse)\n",
    "            combin = np.fromiter(combin, dtype=int)\n",
    "            combin = combin.reshape(-1, next_max_itemset + 1)\n",
    "\n",
    "            if combin.size == 0:\n",
    "                break\n",
    "            if verbose:\n",
    "                print(\n",
    "                    '\\rProcessing %d combinations | Sampling itemset size %d' %\n",
    "                    (combin.size, next_max_itemset), end=\"\")\n",
    "\n",
    "            itemset_dict[next_max_itemset] = combin[:, 1:]\n",
    "            support_dict[next_max_itemset] = combin[:, 0].astype(float) \\\n",
    "                / rows_count\n",
    "            max_itemset = next_max_itemset\n",
    "        else:\n",
    "            combin = generate_new_combinations(itemset_dict[max_itemset])\n",
    "            combin = np.fromiter(combin, dtype=int)\n",
    "            combin = combin.reshape(-1, next_max_itemset)\n",
    "\n",
    "            if combin.size == 0:\n",
    "                break\n",
    "            if verbose:\n",
    "                print(\n",
    "                    '\\rProcessing %d combinations | Sampling itemset size %d' %\n",
    "                    (combin.size, next_max_itemset), end=\"\")\n",
    "\n",
    "            if is_sparse:\n",
    "                _bools = X[:, combin[:, 0]] == all_ones\n",
    "                for n in range(1, combin.shape[1]):\n",
    "                    _bools = _bools & (X[:, combin[:, n]] == all_ones)\n",
    "            else:\n",
    "                _bools = np.all(X[:, combin], axis=2)\n",
    "\n",
    "            support = _support(np.array(_bools), rows_count, is_sparse)\n",
    "            _mask = (support >= min_support).reshape(-1)\n",
    "            if any(_mask):\n",
    "                itemset_dict[next_max_itemset] = np.array(combin[_mask])\n",
    "                support_dict[next_max_itemset] = np.array(support[_mask])\n",
    "                max_itemset = next_max_itemset\n",
    "            else:\n",
    "                # Exit condition\n",
    "                break\n",
    "\n",
    "    all_res = []\n",
    "    for k in sorted(itemset_dict):\n",
    "        support = pd.Series(support_dict[k])\n",
    "        itemsets = pd.Series([frozenset(i) for i in itemset_dict[k]],\n",
    "                             dtype='object')\n",
    "\n",
    "        res = pd.concat((support, itemsets), axis=1)\n",
    "        all_res.append(res)\n",
    "\n",
    "    res_df = pd.concat(all_res)\n",
    "    res_df.columns = ['support', 'itemsets']\n",
    "    if use_colnames:\n",
    "        mapping = {idx: item for idx, item in enumerate(df.columns)}\n",
    "        res_df['itemsets'] = res_df['itemsets'].apply(lambda x: frozenset([\n",
    "                                                      mapping[i] for i in x]))\n",
    "    res_df = res_df.reset_index(drop=True)\n",
    "\n",
    "    if verbose:\n",
    "        print()\n",
    "\n",
    "    return res_df"
   ]
  }
 ],
 "metadata": {
  "kernelspec": {
   "display_name": "Python 3",
   "language": "python",
   "name": "python3"
  },
  "language_info": {
   "codemirror_mode": {
    "name": "ipython",
    "version": 3
   },
   "file_extension": ".py",
   "mimetype": "text/x-python",
   "name": "python",
   "nbconvert_exporter": "python",
   "pygments_lexer": "ipython3",
   "version": "3.8.5"
  }
 },
 "nbformat": 4,
 "nbformat_minor": 4
}
